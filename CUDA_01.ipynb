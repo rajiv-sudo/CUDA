{
 "cells": [
  {
   "cell_type": "code",
   "execution_count": 1,
   "id": "99e193c2-a329-40a3-b34c-208bb23d5bda",
   "metadata": {},
   "outputs": [],
   "source": [
    "import torch"
   ]
  },
  {
   "cell_type": "markdown",
   "id": "31a043a3-f499-405f-9b09-8a561341045e",
   "metadata": {},
   "source": [
    "## Torch functions\n",
    "1. torch.version.cuda(): Returns CUDA version of the currently installed packages\n",
    "2. torch.cuda.is_available(): Returns True if CUDA is supported by your system, else False\n",
    "3. torch.cuda.current_device(): Returns ID of current device\n",
    "4. torch.cuda.get_device_name(device_ID): Returns name of the CUDA device with ID = ‘device_ID’"
   ]
  },
  {
   "cell_type": "code",
   "execution_count": 3,
   "id": "4852bdbb-b7b4-4e50-88ee-6b72578eb314",
   "metadata": {},
   "outputs": [
    {
     "name": "stdout",
     "output_type": "stream",
     "text": [
      "Is CUDA supported by this system? True\n"
     ]
    }
   ],
   "source": [
    "print(f\"Is CUDA supported by this system? {torch.cuda.is_available()}\")"
   ]
  },
  {
   "cell_type": "code",
   "execution_count": 4,
   "id": "1d259e93-fb63-4cdf-af80-aa76edc38c87",
   "metadata": {},
   "outputs": [
    {
     "name": "stdout",
     "output_type": "stream",
     "text": [
      "CUDA version: 11.8\n"
     ]
    }
   ],
   "source": [
    "print(f\"CUDA version: {torch.version.cuda}\")"
   ]
  },
  {
   "cell_type": "code",
   "execution_count": 6,
   "id": "e13e4cb0-e5a1-4265-b647-69d69d498a05",
   "metadata": {},
   "outputs": [
    {
     "name": "stdout",
     "output_type": "stream",
     "text": [
      "ID of current CUDA device:0\n",
      "Name of current CUDA device:Tesla V100-SXM2-16GB\n"
     ]
    }
   ],
   "source": [
    "# Storing ID of current CUDA device\n",
    "cuda_id = torch.cuda.current_device()\n",
    "print(f\"ID of current CUDA device:{torch.cuda.current_device()}\")\n",
    "\t\n",
    "print(f\"Name of current CUDA device:{torch.cuda.get_device_name(cuda_id)}\")"
   ]
  },
  {
   "cell_type": "code",
   "execution_count": null,
   "id": "a60b34a3-6758-42a6-8be6-7e4214bad060",
   "metadata": {},
   "outputs": [],
   "source": []
  }
 ],
 "metadata": {
  "kernelspec": {
   "display_name": "Python 3 (ipykernel)",
   "language": "python",
   "name": "python3"
  },
  "language_info": {
   "codemirror_mode": {
    "name": "ipython",
    "version": 3
   },
   "file_extension": ".py",
   "mimetype": "text/x-python",
   "name": "python",
   "nbconvert_exporter": "python",
   "pygments_lexer": "ipython3",
   "version": "3.10.14"
  }
 },
 "nbformat": 4,
 "nbformat_minor": 5
}
