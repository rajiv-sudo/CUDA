{
 "cells": [
  {
   "cell_type": "markdown",
   "id": "5508f15c-209b-49c4-9b04-291a1783a225",
   "metadata": {},
   "source": [
    "## Handling Machine Learning models with CUDA\n",
    "A good Pytorch practice is to produce device-agnostic code because some systems might not have access to a GPU and have to rely on the CPU only or vice versa. Once that’s done the following function can be used to transfer any machine learning model onto the selected device\n",
    "\n",
    "**Syntax**: Model.to(device_name):\n",
    "\n",
    "**Returns**: New instance of Machine Learning ‘Model’ on the device specified by ‘device_name’:  ‘cpu’ for CPU and ‘cuda’ for CUDA enabled GPU"
   ]
  },
  {
   "cell_type": "markdown",
   "id": "4ae71f64-e362-438b-b859-b408966f8e11",
   "metadata": {},
   "source": [
    "## Example\n",
    "In this example, we are importing the pre-trained **Resnet-18** model from the **torchvision.models** utility, the reader can use the same steps for transferring models to their selected device."
   ]
  },
  {
   "cell_type": "code",
   "execution_count": 1,
   "id": "94ea24ea-03d1-4b32-9f42-46891539d829",
   "metadata": {},
   "outputs": [
    {
     "name": "stderr",
     "output_type": "stream",
     "text": [
      "/home/ubuntu/rag-langchain/lib/python3.10/site-packages/torchvision/models/_utils.py:208: UserWarning: The parameter 'pretrained' is deprecated since 0.13 and may be removed in the future, please use 'weights' instead.\n",
      "  warnings.warn(\n",
      "/home/ubuntu/rag-langchain/lib/python3.10/site-packages/torchvision/models/_utils.py:223: UserWarning: Arguments other than a weight enum or `None` for 'weights' are deprecated since 0.13 and may be removed in the future. The current behavior is equivalent to passing `weights=ResNet18_Weights.IMAGENET1K_V1`. You can also use `weights=ResNet18_Weights.DEFAULT` to get the most up-to-date weights.\n",
      "  warnings.warn(msg)\n",
      "Downloading: \"https://download.pytorch.org/models/resnet18-f37072fd.pth\" to /home/ubuntu/.cache/torch/hub/checkpoints/resnet18-f37072fd.pth\n",
      "52.5%IOPub message rate exceeded.\n",
      "The Jupyter server will temporarily stop sending output\n",
      "to the client in order to avoid crashing it.\n",
      "To change this limit, set the config variable\n",
      "`--ServerApp.iopub_msg_rate_limit`.\n",
      "\n",
      "Current values:\n",
      "ServerApp.iopub_msg_rate_limit=1000.0 (msgs/sec)\n",
      "ServerApp.rate_limit_window=3.0 (secs)\n",
      "\n",
      "100.0%\n"
     ]
    }
   ],
   "source": [
    "import torch\n",
    "import torchvision.models as models\n",
    "\n",
    "# Making the code device-agnostic\n",
    "device = 'cuda' if torch.cuda.is_available() else 'cpu'\n",
    "\n",
    "# Instantiating a pre-trained model\n",
    "model = models.resnet18(pretrained=True)\n",
    "\n",
    "# Transferring the model to a CUDA enabled GPU\n",
    "model = model.to(device)\n",
    "\n",
    "# Now the reader can continue the rest of the workflow\n",
    "# including training, cross validation, etc!\n"
   ]
  },
  {
   "cell_type": "code",
   "execution_count": null,
   "id": "e8e1be38-e313-4137-9d00-84ce90658cc9",
   "metadata": {},
   "outputs": [],
   "source": []
  }
 ],
 "metadata": {
  "kernelspec": {
   "display_name": "Python 3 (ipykernel)",
   "language": "python",
   "name": "python3"
  },
  "language_info": {
   "codemirror_mode": {
    "name": "ipython",
    "version": 3
   },
   "file_extension": ".py",
   "mimetype": "text/x-python",
   "name": "python",
   "nbconvert_exporter": "python",
   "pygments_lexer": "ipython3",
   "version": "3.10.14"
  }
 },
 "nbformat": 4,
 "nbformat_minor": 5
}
