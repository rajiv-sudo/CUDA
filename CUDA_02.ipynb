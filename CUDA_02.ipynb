{
 "cells": [
  {
   "cell_type": "code",
   "execution_count": 1,
   "id": "32d096eb-8124-4922-9806-bc7b3231a9be",
   "metadata": {},
   "outputs": [],
   "source": [
    "import torch"
   ]
  },
  {
   "cell_type": "markdown",
   "id": "300c3885-72ad-425b-bb2e-c6ecd0bc3bc0",
   "metadata": {},
   "source": [
    "## Handling Tensors with CUDA\n",
    "1. Tensor.device: Returns the device name of ‘Tensor’\n",
    "2. Tensor.to(device_name): Returns new instance of ‘Tensor’ on the device specified by ‘device_name’:  ‘cpu’ for CPU and ‘cuda’ for CUDA enabled GPU\n",
    "3. Tensor.cpu(): Transfers ‘Tensor’ to CPU from it’s current device"
   ]
  },
  {
   "cell_type": "code",
   "execution_count": 6,
   "id": "7db7e9e8-df5b-4432-9ce2-8b5fdeb0b86a",
   "metadata": {},
   "outputs": [
    {
     "name": "stdout",
     "output_type": "stream",
     "text": [
      "cpu\n",
      "cuda:0\n",
      "True\n"
     ]
    }
   ],
   "source": [
    "# Creating a test tensor\n",
    "x = torch.randint(1, 100, (100, 100))\n",
    "\n",
    "# Checking the device name:\n",
    "# Should return 'cpu' by default\n",
    "print(x.device)\n",
    "\n",
    "# Applying tensor operation\n",
    "res_cpu = x ** 2\n",
    "\n",
    "# Transferring tensor to GPU\n",
    "x = x.to(torch.device('cuda'))\n",
    "\n",
    "# Checking the device name:\n",
    "# Should return 'cuda:0'\n",
    "print(x.device)\n",
    "\n",
    "# Applying same tensor operation\n",
    "res_gpu = x ** 2\n",
    "\n",
    "# Checking the equality\n",
    "# of the two results\n",
    "#assert torch.equal(res_cpu, res_gpu.cpu())\n",
    "print(torch.equal(res_cpu, res_gpu.cpu()))\n"
   ]
  },
  {
   "cell_type": "code",
   "execution_count": null,
   "id": "67a89ca3-ba3d-43e6-be7e-e7609f38c3df",
   "metadata": {},
   "outputs": [],
   "source": []
  }
 ],
 "metadata": {
  "kernelspec": {
   "display_name": "Python 3 (ipykernel)",
   "language": "python",
   "name": "python3"
  },
  "language_info": {
   "codemirror_mode": {
    "name": "ipython",
    "version": 3
   },
   "file_extension": ".py",
   "mimetype": "text/x-python",
   "name": "python",
   "nbconvert_exporter": "python",
   "pygments_lexer": "ipython3",
   "version": "3.10.14"
  }
 },
 "nbformat": 4,
 "nbformat_minor": 5
}
